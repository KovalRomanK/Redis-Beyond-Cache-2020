{
 "cells": [
  {
   "cell_type": "code",
   "execution_count": 1,
   "metadata": {},
   "outputs": [],
   "source": [
    "from __future__ import unicode_literals\n",
    "import youtube_dl"
   ]
  },
  {
   "cell_type": "code",
   "execution_count": 3,
   "metadata": {},
   "outputs": [
    {
     "name": "stdout",
     "output_type": "stream",
     "text": [
      "[youtube] BaW_jenozKc: Downloading webpage\n",
      "[download] youtube-dl test video ''_ä↭𝕐-BaW_jenozKc.m4a has already been downloaded\n",
      "[download] 100% of 154.06KiB\n",
      "[ffmpeg] Correcting container in \"youtube-dl test video ''_ä↭𝕐-BaW_jenozKc.m4a\"\n",
      "[ffmpeg] Destination: youtube-dl test video ''_ä↭𝕐-BaW_jenozKc.wav\n",
      "Deleting original file youtube-dl test video ''_ä↭𝕐-BaW_jenozKc.m4a (pass -k to keep)\n"
     ]
    }
   ],
   "source": [
    "ydl_opts = {\n",
    "    'format': 'bestaudio/best',\n",
    "    'postprocessors': [{\n",
    "        'key': 'FFmpegExtractAudio',\n",
    "        'preferredcodec': 'wav',\n",
    "        'preferredquality': '192',\n",
    "    }],\n",
    "}\n",
    "with youtube_dl.YoutubeDL(ydl_opts) as ydl:\n",
    "    ydl.download(['http://www.youtube.com/watch?v=BaW_jenozKc'])"
   ]
  },
  {
   "cell_type": "code",
   "execution_count": 15,
   "metadata": {},
   "outputs": [
    {
     "name": "stdout",
     "output_type": "stream",
     "text": [
      "INFO: [Lyric Video] Gojira - Flying Whales (http://www.youtube.com/watch?v=j5Zr_oEiHQ4)\n",
      "\n",
      "  1,024.0 Bytes [0.01%] received. Rate: [  67 KB/s].  ETA: [110 secs]    \n",
      "\n",
      "  3,072.0 Bytes [0.04%] received. Rate: [ 200 KB/s].  ETA: [36 secs]    \n",
      "\n",
      "  7,168.0 Bytes [0.09%] received. Rate: [ 466 KB/s].  ETA: [15 secs]    \n",
      "\n",
      "  15,360.0 Bytes [0.20%] received. Rate: [ 998 KB/s].  ETA: [7 secs]    \n",
      "\n",
      "  31,744.0 Bytes [0.42%] received. Rate: [ 756 KB/s].  ETA: [9 secs]    \n",
      "\n",
      "  64,512.0 Bytes [0.85%] received. Rate: [ 747 KB/s].  ETA: [9 secs]    \n",
      "\n",
      "  130,048.0 Bytes [1.72%] received. Rate: [ 730 KB/s].  ETA: [9 secs]    \n",
      "\n",
      "  261,120.0 Bytes [3.46%] received. Rate: [ 793 KB/s].  ETA: [8 secs]    \n",
      "\n",
      "  523,264.0 Bytes [6.93%] received. Rate: [1038 KB/s].  ETA: [6 secs]    \n",
      "\n",
      "  1,047,552.0 Bytes [13.88%] received. Rate: [1300 KB/s].  ETA: [4 secs]    \n",
      "\n",
      "  2,096,128.0 Bytes [27.77%] received. Rate: [1501 KB/s].  ETA: [3 secs]    \n",
      "\n",
      "  3,913,425.0 Bytes [51.84%] received. Rate: [1643 KB/s].  ETA: [2 secs]    \n",
      "\n",
      "  5,801,216.0 Bytes [76.85%] received. Rate: [1380 KB/s].  ETA: [1 secs]    \n",
      "\n",
      "  6,862,495.0 Bytes [90.91%] received. Rate: [1077 KB/s].  ETA: [0 secs]    \n",
      "\n",
      "  7,393,134.0 Bytes [97.94%] received. Rate: [1068 KB/s].  ETA: [0 secs]    \n",
      "\n",
      "  7,548,796.0 Bytes [100.00%] received. Rate: [1073 KB/s].  ETA: [0 secs]    \n",
      "\n",
      "\n",
      "INFO: Converting Gojira - Flying Whales.m4a to wav\n",
      "WARNING: Could not find ffmpeg, skip encoding\n",
      "INFO: Applying metadata\n"
     ]
    }
   ],
   "source": [
    "import subprocess\n",
    "print(subprocess.getoutput(\"cd audio_dir & spotdl --song https://open.spotify.com/track/7vxtxgtlAecGklW2gomanZ?si=g-L9ABWSSPG-FpkAHwUvSQ -o .wav\"))\n",
    "val = subprocess.getoutput(\"dir\")\n",
    "                     "
   ]
  },
  {
   "cell_type": "code",
   "execution_count": 7,
   "metadata": {},
   "outputs": [
    {
     "name": "stdout",
     "output_type": "stream",
     "text": [
      " Volume in drive D is DATA\n",
      " Volume Serial Number is A40C-3313\n",
      "\n",
      " Directory of D:\\Documents\\csc148\\AudioAnalysis\n",
      "\n",
      "2020-05-10  10:38 PM    <DIR>          .\n",
      "2020-05-10  10:38 PM    <DIR>          ..\n",
      "2020-05-10  03:51 PM    <DIR>          .idea\n",
      "2020-05-06  05:41 PM    <DIR>          .ipynb_checkpoints\n",
      "2020-05-10  03:39 PM    <DIR>          audio\n",
      "2020-05-10  10:20 PM            95,775 audio_analysis.ipynb\n",
      "2020-05-10  10:30 PM             7,216 audio_analysis.py\n",
      "2020-05-10  10:39 PM    <DIR>          audio_dir\n",
      "2020-05-05  10:22 PM        75,305,038 audio_metallica.wav\n",
      "2015-02-22  05:05 PM               534 batch-example.bat\n",
      "2015-02-22  05:05 PM            83,796 ChangeLog.txt\n",
      "2020-05-06  05:44 PM        67,971,584 ffmpeg.exe\n",
      "2020-05-06  05:44 PM        67,833,344 ffplay.exe\n",
      "2020-05-06  05:44 PM        67,861,504 ffprobe.exe\n",
      "2020-05-05  09:12 PM         3,384,832 fpcalc.exe\n",
      "2014-12-02  06:34 AM           284,258 libflac-8.dll\n",
      "2014-12-03  06:07 PM           474,449 libgcc_s_sjlj-1.dll\n",
      "2014-12-03  06:07 PM           424,566 libgomp-1.dll\n",
      "2014-06-24  09:30 AM            73,559 libid3tag-0.dll\n",
      "2014-06-07  08:15 AM            27,423 libogg-0.dll\n",
      "2014-06-07  08:19 AM           211,237 libpng16-16.dll\n",
      "2015-02-22  05:05 PM         2,349,388 libsox-3.dll\n",
      "2014-12-03  06:07 PM            73,555 libssp-0.dll\n",
      "2014-06-07  08:17 AM           171,087 libvorbis-0.dll\n",
      "2014-06-07  08:17 AM           567,578 libvorbisenc-2.dll\n",
      "2014-06-07  08:17 AM            38,203 libvorbisfile-3.dll\n",
      "2014-06-07  08:55 AM           157,861 libwavpack-1.dll\n",
      "2014-12-15  02:52 PM            54,131 libwinpthread-1.dll\n",
      "2015-02-22  05:05 PM            18,326 LICENSE.GPL.txt\n",
      "2015-02-22  05:05 PM             8,073 README.txt\n",
      "2015-02-22  05:05 PM             6,010 README.win32.txt\n",
      "2015-02-22  05:05 PM           213,624 sox.exe\n",
      "2020-05-07  09:59 PM    <DIR>          spotify-downloader\n",
      "2020-05-08  07:42 PM                 0 spotify.txt\n",
      "2020-05-10  09:58 PM    <DIR>          video\n",
      "2020-05-10  04:03 PM    <DIR>          video_dir\n",
      "2020-05-05  10:20 PM        81,928,270 video_metallica.wav\n",
      "2020-05-10  10:38 PM             5,235 youtube_to_audio.ipynb\n",
      "2020-05-10  10:18 PM    <DIR>          __pycache__\n",
      "              29 File(s)    369,630,456 bytes\n",
      "              10 Dir(s)  833,182,666,752 bytes free\n"
     ]
    }
   ],
   "source": [
    "print(val)"
   ]
  },
  {
   "cell_type": "code",
   "execution_count": null,
   "metadata": {},
   "outputs": [],
   "source": []
  }
 ],
 "metadata": {
  "kernelspec": {
   "display_name": "Python 3",
   "language": "python",
   "name": "python3"
  },
  "language_info": {
   "codemirror_mode": {
    "name": "ipython",
    "version": 3
   },
   "file_extension": ".py",
   "mimetype": "text/x-python",
   "name": "python",
   "nbconvert_exporter": "python",
   "pygments_lexer": "ipython3",
   "version": "3.7.0"
  }
 },
 "nbformat": 4,
 "nbformat_minor": 2
}
